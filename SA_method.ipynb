{
  "metadata": {
    "kernelspec": {
      "name": "python",
      "display_name": "Python (Pyodide)",
      "language": "python"
    },
    "language_info": {
      "codemirror_mode": {
        "name": "python",
        "version": 3
      },
      "file_extension": ".py",
      "mimetype": "text/x-python",
      "name": "python",
      "nbconvert_exporter": "python",
      "pygments_lexer": "ipython3",
      "version": "3.8"
    }
  },
  "nbformat_minor": 4,
  "nbformat": 4,
  "cells": [
    {
      "cell_type": "markdown",
      "source": "# Реалізація методики системного аналізу в Jupyter\n\nВ документі об'єднуються деякі методи [системного аналізу](https://uk.wikipedia.org/wiki/Системний_аналіз) для розв'язування проблеми, що слабо формалізується:\n1. [Ментальні карти (Mind map)](https://uk.wikipedia.org/wiki/Мапа_думок) для ефективного мозкового штурму\n2. [Морфологічний аналіз](https://uk.wikipedia.org/wiki/Морфологічний_аналіз_(винахідництво))\n3. [Експертне оцінювання](https://ru.wikipedia.org/wiki/Экспертное_оценивание)\n4. Візуалізація [графів](https://uk.wikipedia.org/wiki/Граф_(математика)) експертного оцінювання\n5. [Алгоритми на графах](https://en.wikipedia.org/wiki/Category:Graph_algorithms)\n6. [Кластерний аналіз](https://uk.wikipedia.org/wiki/Кластерний_аналіз)\n7. Модель [класифікації](https://uk.wikipedia.org/wiki/Бінарна_класифікація) машинного навчання\n\nКористувач може доповнити ці методи іншими, які реалізовані в різноманітних пакетах Python. Зокрема це методи аналітичного та чисельного моделювання, розв'язування рівнянь та оптимізації, статистичного моделювання, комбінаторні алгоритми, логічне програмування та інші.\nМетоди СА поділяють на дві групи: методи активізації інтуїції спеціалістів (МАІС) та методи формалізованого подання системи (МФПС). Методи повинні застосовуватись в раціональній послідовності. Зокрема методи МАІС повинні чергуватись з методами МФПС. Застосування цих методів являє собою ітераційний процес з можливим поверненням на попередні етапи, зміною методів та їхньої послідовності. З кожною ітерацією відбувається покращення якості моделі прийняття рішення.\n\n## Ментальні карти\nДля візуалізації ментальної карти використовується сервіс mermaid.ink та функція displayMermaid(graph), де graph - рядок з кодом діаграми Mermaid. Діаграми типу mindmap описуються шляхом ієрархічного переліку концептів, який утворюється за допомогою відступів. Під час мозкового штурму вводьте концепції в цей перелік і запускайте код комірки для візуалізації.",
      "metadata": {}
    },
    {
      "cell_type": "code",
      "source": "import base64\nfrom IPython.display import Image, display\nimport matplotlib.pyplot as plt\n\ndef displayMermaid(graph):\n    graphbytes = graph.encode(\"utf8\")\n    base64_bytes = base64.b64encode(graphbytes)\n    base64_string = base64_bytes.decode(\"ascii\")\n    display(Image(url=\"https://mermaid.ink/img/\" + base64_string))\n\ngraph=\"\"\"\nmindmap\nRoot\n    A\n      B\n      C\n\"\"\"\ndisplayMermaid(graph)",
      "metadata": {
        "trusted": true
      },
      "outputs": [
        {
          "output_type": "display_data",
          "data": {
            "text/html": "<img src=\"https://mermaid.ink/img/Cm1pbmRtYXAKUm9vdAogICAgQQogICAgICBCCiAgICAgIEMK\"/>",
            "text/plain": "<IPython.core.display.Image object>"
          },
          "metadata": {}
        }
      ],
      "execution_count": 4
    },
    {
      "cell_type": "markdown",
      "source": "## Морфологічний аналіз\nВибираємо наступним методом метод морфологічного аналізу, так як його слід відносити до іншого класу (МФПС). Для автоматизації передачі результатів від попереднього методу створено функції parse_hierarchy (повертає ієрархію у вигляді списку) та parse_simple (повертає список усіх концептів без ієрархії). Для прикладу застосуємо parse_simple та отримаємо множину ісіх концептів S. Передамо її itertools.combinations для отримання усіх комбінації з двох елементів - морфологічної матриці. Перегляд цієї матриці дозволить звернути увагу на перспективні комбінації.",
      "metadata": {}
    },
    {
      "cell_type": "code",
      "source": "def parse_hierarchy(lines, level=0):\n    while lines:\n        line = lines[0]\n        indent = len(line) - len(line.lstrip(' '))\n        if indent == level:  # the line is at the current level\n            yield line.lstrip()\n            lines.pop(0)\n        elif indent > level:  # the line is at a deeper level\n            yield list(parse_hierarchy(lines, level=indent))\n        else:  # the line is at a higher level\n            return  # end recursion\n\nlist(parse_hierarchy(graph.splitlines()[2:], level=0))",
      "metadata": {
        "trusted": true
      },
      "outputs": [
        {
          "execution_count": 5,
          "output_type": "execute_result",
          "data": {
            "text/plain": "['Root', ['A', ['B', 'C']]]"
          },
          "metadata": {}
        }
      ],
      "execution_count": 5
    },
    {
      "cell_type": "code",
      "source": "def parse_simple(lines):\n    for line in lines:\n        yield line.lstrip() \n        \nS=set(parse_simple(graph.splitlines()[2:]))\n\nimport itertools    \nlist(itertools.combinations(S,2))",
      "metadata": {
        "trusted": true
      },
      "outputs": [
        {
          "execution_count": 6,
          "output_type": "execute_result",
          "data": {
            "text/plain": "[('A', 'C'),\n ('A', 'B'),\n ('A', 'Root'),\n ('C', 'B'),\n ('C', 'Root'),\n ('B', 'Root')]"
          },
          "metadata": {}
        }
      ],
      "execution_count": 6
    },
    {
      "cell_type": "markdown",
      "source": "## Експертне оцінювання та його візуалізація\nЕкспертне оцінювання належить до МАІС та полягає в передачі цієї матриці експертам з проханням оцінити кожну комбінацію за шкалою від 0 до 1. Один експерт може також поставити кілька оцінок за різними критеріями. В результаті отримуємо словник G. Функція graph2mermaid будує граф за цією структурою. Побудований нижче граф містить тільки перші оцінки. Спробуйте також отримати граф з середніми оцінками.",
      "metadata": {}
    },
    {
      "cell_type": "code",
      "source": "G={('B', 'Root'):(0.1,0.2),\n ('B', 'A'):(0.2,0.1),\n ('B', 'C'):(0.9,0.8),\n ('Root', 'A'):(1.0,1.0),\n ('Root', 'C'):(0.1,0.0),\n ('A', 'C'):(0.0,0.0)}\n\ndef graph2mermaid(G, properties=[]):\n    tmp=\"\"\"\ngraph TD;\n%s\n\"\"\"\n    edges=\"\"\n    for s,o in G:\n        #print(s,p,o)\n        p=G[(s,o)][0]\n        #if p not in properties: continue\n        edges+=\"    \"+s+\"-- \"+str(p)+\" ---\"+o+\";\\n\"\n    if not edges: return\n    return tmp%edges\n    \ndisplayMermaid(graph2mermaid(G, properties=[0,1]))",
      "metadata": {
        "trusted": true
      },
      "outputs": [
        {
          "output_type": "display_data",
          "data": {
            "text/html": "<img src=\"https://mermaid.ink/img/CmdyYXBoIFREOwogICAgQi0tIDAuMSAtLS1Sb290OwogICAgQi0tIDAuMiAtLS1BOwogICAgQi0tIDAuOSAtLS1DOwogICAgUm9vdC0tIDEuMCAtLS1BOwogICAgUm9vdC0tIDAuMSAtLS1DOwogICAgQS0tIDAuMCAtLS1DOwoK\"/>",
            "text/plain": "<IPython.core.display.Image object>"
          },
          "metadata": {}
        }
      ],
      "execution_count": 7
    },
    {
      "cell_type": "markdown",
      "source": "## Алгоритми на графах\nДля аналізу графів застосуємо алгоритми на графах (МФПС). Зокрема алгоритм [PageRank](https://uk.wikipedia.org/wiki/PageRank) дозволяє ідентифікувати найбільш авторитетні вузли. Увага! Це алгоритм для спрямованих графів. Замість комбінацій застосовуйте перестановки. Спробуйте також інші алгоритми.",
      "metadata": {}
    },
    {
      "cell_type": "code",
      "source": "%pip install -q scipy",
      "metadata": {
        "trusted": true
      },
      "outputs": [],
      "execution_count": 9
    },
    {
      "cell_type": "code",
      "source": "import networkx as nx\nGr=nx.DiGraph()\nGr.add_weighted_edges_from([(s, o, G[(s,o)][0]) for s,o in G])\nnx.pagerank(Gr, alpha=0.9)",
      "metadata": {
        "trusted": true
      },
      "outputs": [
        {
          "execution_count": 10,
          "output_type": "execute_result",
          "data": {
            "text/plain": "{'B': 0.17043062943603157,\n 'Root': 0.18321285094459652,\n 'A': 0.3458958216832472,\n 'C': 0.30046069793612473}"
          },
          "metadata": {}
        }
      ],
      "execution_count": 10
    },
    {
      "cell_type": "markdown",
      "source": "## Кластеризація експертних оцінок\nКластеризація (МФПС) дозволяє автоматично знайти групи (кластери) експертних оцінок. Графік показує дві групи оцінок - низькі і високі. Далі слід зосередитись на комбінаціях в групі високих оцінок.",
      "metadata": {}
    },
    {
      "cell_type": "code",
      "source": "import numpy as np\nimport matplotlib.pyplot as plt\nplt.axis('equal')\nfrom sklearn.cluster import KMeans\n\n# дані - дві ознаки класів\nx=np.array([[x0, x1] for x0,x1 in G.values()])\nm=KMeans(n_clusters=2) # метод k-середніх\n# алгоритм обчислює центри ваги кластерів\nm.fit(x)\ny=m.labels_ # мітки класів\nprint(x)\nprint(y)\nprint(m.predict([[0.5,0.5]])) # прогноз в новій точці\nprint(m.cluster_centers_) # центри кластерів\n\nplt.scatter(x[:,0], x[:,1], c=y) # візуалізація класів\nplt.xlabel('x0'), plt.ylabel('x1')\nplt.show()",
      "metadata": {
        "trusted": true
      },
      "outputs": [
        {
          "name": "stderr",
          "text": "/lib/python3.11/site-packages/sklearn/cluster/_kmeans.py:1416: FutureWarning: The default value of `n_init` will change from 10 to 'auto' in 1.4. Set the value of `n_init` explicitly to suppress the warning\n  super()._check_params_vs_input(X, default_n_init=10)\n/lib/python3.11/site-packages/threadpoolctl.py:1019: RuntimeWarning: libc not found. The ctypes module in Python 3.11 is maybe too old for this OS.\n  warnings.warn(\n",
          "output_type": "stream"
        },
        {
          "name": "stdout",
          "text": "[[0.1 0.2]\n [0.2 0.1]\n [0.9 0.8]\n [1.  1. ]\n [0.1 0. ]\n [0.  0. ]]\n[0 0 1 1 0 0]\n[0]\n[[0.1   0.075]\n [0.95  0.9  ]]\n",
          "output_type": "stream"
        },
        {
          "output_type": "display_data",
          "data": {
            "text/plain": "<Figure size 640x480 with 1 Axes>",
            "image/png": "[encoded data removed]"
          },
          "metadata": {}
        }
      ],
      "execution_count": 11
    },
    {
      "cell_type": "markdown",
      "source": "## Класифікація експертного оцінювання (1)\nКласифікація експерних оцінок (МФПС) дозволить прогнозувати клас y оцінок за ознаками x. Ознаками x можуть бути концепти A,B,C, їхні комбінації, оцінки за іншими критеріями та інше.",
      "metadata": {}
    },
    {
      "cell_type": "code",
      "source": "from sklearn.preprocessing import LabelBinarizer\nfrom sklearn.linear_model import LogisticRegression\nlb = LabelBinarizer()\nx=[]\nxo=[]\nfor k,v in G.items():\n    x.append(str(k))\n    xo.append(v[0])\nfor k,v in G.items():\n    x.append(str(k))\n    xo.append(v[1])\nprint(x)\nx=lb.fit_transform(x)\nx=np.hstack([x, np.array(xo).reshape(-1,1)])\ny=[0,0,1,1,0,0,0,0,1,1,0,0]\nmodel=LogisticRegression()\nmodel.fit(x,y)\nxp=lb.transform([\"('Root', 'C')\"])\nprint(xp)\nprint(np.hstack([x, np.array(y).reshape(-1,1)])) # x,y\nprint(model.predict([[0,  0,  0,  0,  0,  1,  0.5]])) # прогноз",
      "metadata": {
        "trusted": true
      },
      "outputs": [
        {
          "name": "stdout",
          "text": "[\"('B', 'Root')\", \"('B', 'A')\", \"('B', 'C')\", \"('Root', 'A')\", \"('Root', 'C')\", \"('A', 'C')\", \"('B', 'Root')\", \"('B', 'A')\", \"('B', 'C')\", \"('Root', 'A')\", \"('Root', 'C')\", \"('A', 'C')\"]\n[[0 0 0 0 0 1]]\n[[0.  0.  0.  1.  0.  0.  0.1 0. ]\n [0.  1.  0.  0.  0.  0.  0.2 0. ]\n [0.  0.  1.  0.  0.  0.  0.9 1. ]\n [0.  0.  0.  0.  1.  0.  1.  1. ]\n [0.  0.  0.  0.  0.  1.  0.1 0. ]\n [1.  0.  0.  0.  0.  0.  0.  0. ]\n [0.  0.  0.  1.  0.  0.  0.2 0. ]\n [0.  1.  0.  0.  0.  0.  0.1 0. ]\n [0.  0.  1.  0.  0.  0.  0.8 1. ]\n [0.  0.  0.  0.  1.  0.  1.  1. ]\n [0.  0.  0.  0.  0.  1.  0.  0. ]\n [1.  0.  0.  0.  0.  0.  0.  0. ]]\n[0]\n",
          "output_type": "stream"
        }
      ],
      "execution_count": 35
    },
    {
      "cell_type": "markdown",
      "source": "## Класифікація експертного оцінювання (2)\nЩе один спосіб класифікації. Тут є три ознаки x - кількість концептів A, B, C в прийнятому рішенні. Клас y - це показник якості. x та y визначаються шляхом експертного оцінювання або іншим способом (моделювання, експеримент, моніторинг і т.п.)",
      "metadata": {}
    },
    {
      "cell_type": "code",
      "source": "x=np.array([[0,1,1,2,2,3,2,3,1,3, 6,5,6,7,7,8,7,7,8,5],  #A\n            [0,1,1,2,2,3,2,3,1,3, 6,5,6,7,7,8,7,7,8,5],  #B\n            [1,1,3,1,2,2,3,4,4,1, 5,7,6,7,6,7,5,8,8,8]]) #C \ny=np.array( [0,0,0,0,0,0,0,0,0,0, 1,1,1,1,1,1,1,1,1,1] ) #Quality\nx=x.T\nmodel=LogisticRegression()\nmodel.fit(x,y)\nmodel.predict([[5,5,5]])\nplt.scatter(x[:,0], x[:,1], c=y) # візуалізація класів\nplt.xlabel('x0'), plt.ylabel('x1')\nplt.show()",
      "metadata": {
        "trusted": true
      },
      "outputs": [
        {
          "execution_count": 28,
          "output_type": "execute_result",
          "data": {
            "text/plain": "array([1])"
          },
          "metadata": {}
        }
      ],
      "execution_count": 28
    },
    {
      "cell_type": "markdown",
      "source": "## Інші методи\nДля застосування інших методів установіть відповідні пакети Python або запрограмуйте відповідні процедури. Приклад установлення пакета:",
      "metadata": {}
    },
    {
      "cell_type": "code",
      "source": "%pip install -q python-constraint",
      "metadata": {
        "trusted": true
      },
      "outputs": [],
      "execution_count": 5
    },
    {
      "cell_type": "code",
      "source": "",
      "metadata": {
        "trusted": true
      },
      "outputs": [],
      "execution_count": null
    }
  ]
}